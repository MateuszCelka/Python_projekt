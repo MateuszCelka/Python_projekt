{
 "cells": [
  {
   "cell_type": "code",
   "execution_count": 1,
   "metadata": {},
   "outputs": [
    {
     "name": "stderr",
     "output_type": "stream",
     "text": [
      "D:\\anakonda\\lib\\site-packages\\gensim\\similarities\\__init__.py:15: UserWarning: The gensim.similarities.levenshtein submodule is disabled, because the optional Levenshtein package <https://pypi.org/project/python-Levenshtein/> is unavailable. Install Levenhstein (e.g. `pip install python-Levenshtein`) to suppress this warning.\n",
      "  warnings.warn(msg)\n"
     ]
    }
   ],
   "source": [
    "#Implementacja bibliotek\n",
    "import pandas as pd\n",
    "import nltk\n",
    "import numpy as np\n",
    "from nltk.corpus import stopwords\n",
    "from textblob import TextBlob\n",
    "from textblob import Word\n",
    "import gensim\n",
    "from gensim.scripts.glove2word2vec import glove2word2vec\n",
    "from gensim.models import KeyedVectors # load the Stanford GloVe model\n",
    "\n",
    "#Import danych z pliku\n",
    "train = pd.read_csv('Musical_instruments_reviews_1.csv')"
   ]
  },
  {
   "cell_type": "code",
   "execution_count": 2,
   "metadata": {},
   "outputs": [
    {
     "data": {
      "text/html": [
       "<div>\n",
       "<style scoped>\n",
       "    .dataframe tbody tr th:only-of-type {\n",
       "        vertical-align: middle;\n",
       "    }\n",
       "\n",
       "    .dataframe tbody tr th {\n",
       "        vertical-align: top;\n",
       "    }\n",
       "\n",
       "    .dataframe thead th {\n",
       "        text-align: right;\n",
       "    }\n",
       "</style>\n",
       "<table border=\"1\" class=\"dataframe\">\n",
       "  <thead>\n",
       "    <tr style=\"text-align: right;\">\n",
       "      <th></th>\n",
       "      <th>reviewerID</th>\n",
       "      <th>asin</th>\n",
       "      <th>reviewerName</th>\n",
       "      <th>helpful</th>\n",
       "      <th>reviewText</th>\n",
       "      <th>overall</th>\n",
       "      <th>summary</th>\n",
       "      <th>unixReviewTime</th>\n",
       "      <th>reviewTime</th>\n",
       "    </tr>\n",
       "  </thead>\n",
       "  <tbody>\n",
       "    <tr>\n",
       "      <th>0</th>\n",
       "      <td>A2IBPI20UZIR0U</td>\n",
       "      <td>1384719342</td>\n",
       "      <td>cassandra tu \"Yeah, well, that's just like, u...</td>\n",
       "      <td>[0, 0]</td>\n",
       "      <td>Not much to write about here, but it does exac...</td>\n",
       "      <td>5.0</td>\n",
       "      <td>good</td>\n",
       "      <td>1393545600</td>\n",
       "      <td>02 28, 2014</td>\n",
       "    </tr>\n",
       "    <tr>\n",
       "      <th>1</th>\n",
       "      <td>A14VAT5EAX3D9S</td>\n",
       "      <td>1384719342</td>\n",
       "      <td>Jake</td>\n",
       "      <td>[13, 14]</td>\n",
       "      <td>The product does exactly as it should and is q...</td>\n",
       "      <td>5.0</td>\n",
       "      <td>Jake</td>\n",
       "      <td>1363392000</td>\n",
       "      <td>03 16, 2013</td>\n",
       "    </tr>\n",
       "    <tr>\n",
       "      <th>2</th>\n",
       "      <td>A195EZSQDW3E21</td>\n",
       "      <td>1384719342</td>\n",
       "      <td>Rick Bennette \"Rick Bennette\"</td>\n",
       "      <td>[1, 1]</td>\n",
       "      <td>The primary job of this device is to block the...</td>\n",
       "      <td>5.0</td>\n",
       "      <td>It Does The Job Well</td>\n",
       "      <td>1377648000</td>\n",
       "      <td>08 28, 2013</td>\n",
       "    </tr>\n",
       "  </tbody>\n",
       "</table>\n",
       "</div>"
      ],
      "text/plain": [
       "       reviewerID        asin  \\\n",
       "0  A2IBPI20UZIR0U  1384719342   \n",
       "1  A14VAT5EAX3D9S  1384719342   \n",
       "2  A195EZSQDW3E21  1384719342   \n",
       "\n",
       "                                       reviewerName   helpful  \\\n",
       "0  cassandra tu \"Yeah, well, that's just like, u...    [0, 0]   \n",
       "1                                              Jake  [13, 14]   \n",
       "2                     Rick Bennette \"Rick Bennette\"    [1, 1]   \n",
       "\n",
       "                                          reviewText  overall  \\\n",
       "0  Not much to write about here, but it does exac...      5.0   \n",
       "1  The product does exactly as it should and is q...      5.0   \n",
       "2  The primary job of this device is to block the...      5.0   \n",
       "\n",
       "                summary  unixReviewTime   reviewTime  \n",
       "0                  good      1393545600  02 28, 2014  \n",
       "1                  Jake      1363392000  03 16, 2013  \n",
       "2  It Does The Job Well      1377648000  08 28, 2013  "
      ]
     },
     "execution_count": 2,
     "metadata": {},
     "output_type": "execute_result"
    }
   ],
   "source": [
    "#Podgląd danych \n",
    "train.head(3)"
   ]
  },
  {
   "cell_type": "code",
   "execution_count": 3,
   "metadata": {},
   "outputs": [
    {
     "data": {
      "text/html": [
       "<div>\n",
       "<style scoped>\n",
       "    .dataframe tbody tr th:only-of-type {\n",
       "        vertical-align: middle;\n",
       "    }\n",
       "\n",
       "    .dataframe tbody tr th {\n",
       "        vertical-align: top;\n",
       "    }\n",
       "\n",
       "    .dataframe thead th {\n",
       "        text-align: right;\n",
       "    }\n",
       "</style>\n",
       "<table border=\"1\" class=\"dataframe\">\n",
       "  <thead>\n",
       "    <tr style=\"text-align: right;\">\n",
       "      <th></th>\n",
       "      <th>reviewText</th>\n",
       "      <th>word_count</th>\n",
       "    </tr>\n",
       "  </thead>\n",
       "  <tbody>\n",
       "    <tr>\n",
       "      <th>0</th>\n",
       "      <td>Not much to write about here, but it does exac...</td>\n",
       "      <td>51</td>\n",
       "    </tr>\n",
       "    <tr>\n",
       "      <th>1</th>\n",
       "      <td>The product does exactly as it should and is q...</td>\n",
       "      <td>104</td>\n",
       "    </tr>\n",
       "    <tr>\n",
       "      <th>2</th>\n",
       "      <td>The primary job of this device is to block the...</td>\n",
       "      <td>77</td>\n",
       "    </tr>\n",
       "    <tr>\n",
       "      <th>3</th>\n",
       "      <td>Nice windscreen protects my MXL mic and preven...</td>\n",
       "      <td>35</td>\n",
       "    </tr>\n",
       "    <tr>\n",
       "      <th>4</th>\n",
       "      <td>This pop filter is great. It looks and perform...</td>\n",
       "      <td>28</td>\n",
       "    </tr>\n",
       "  </tbody>\n",
       "</table>\n",
       "</div>"
      ],
      "text/plain": [
       "                                          reviewText  word_count\n",
       "0  Not much to write about here, but it does exac...          51\n",
       "1  The product does exactly as it should and is q...         104\n",
       "2  The primary job of this device is to block the...          77\n",
       "3  Nice windscreen protects my MXL mic and preven...          35\n",
       "4  This pop filter is great. It looks and perform...          28"
      ]
     },
     "execution_count": 3,
     "metadata": {},
     "output_type": "execute_result"
    }
   ],
   "source": [
    "# Załadawanie treści oceny oraz liczby jej słów\n",
    "train['word_count'] = train['reviewText'].apply(lambda x: len(str(x).split(\" \")))\n",
    "train[['reviewText','word_count']].head()"
   ]
  },
  {
   "cell_type": "code",
   "execution_count": 4,
   "metadata": {
    "scrolled": true
   },
   "outputs": [
    {
     "name": "stderr",
     "output_type": "stream",
     "text": [
      "[nltk_data] Downloading package stopwords to C:\\Users\\Mateusz\n",
      "[nltk_data]     Celka\\AppData\\Roaming\\nltk_data...\n",
      "[nltk_data]   Package stopwords is already up-to-date!\n"
     ]
    },
    {
     "data": {
      "text/html": [
       "<div>\n",
       "<style scoped>\n",
       "    .dataframe tbody tr th:only-of-type {\n",
       "        vertical-align: middle;\n",
       "    }\n",
       "\n",
       "    .dataframe tbody tr th {\n",
       "        vertical-align: top;\n",
       "    }\n",
       "\n",
       "    .dataframe thead th {\n",
       "        text-align: right;\n",
       "    }\n",
       "</style>\n",
       "<table border=\"1\" class=\"dataframe\">\n",
       "  <thead>\n",
       "    <tr style=\"text-align: right;\">\n",
       "      <th></th>\n",
       "      <th>reviewText</th>\n",
       "      <th>stopwords</th>\n",
       "    </tr>\n",
       "  </thead>\n",
       "  <tbody>\n",
       "    <tr>\n",
       "      <th>0</th>\n",
       "      <td>Not much to write about here, but it does exac...</td>\n",
       "      <td>24</td>\n",
       "    </tr>\n",
       "    <tr>\n",
       "      <th>1</th>\n",
       "      <td>The product does exactly as it should and is q...</td>\n",
       "      <td>47</td>\n",
       "    </tr>\n",
       "    <tr>\n",
       "      <th>2</th>\n",
       "      <td>The primary job of this device is to block the...</td>\n",
       "      <td>29</td>\n",
       "    </tr>\n",
       "    <tr>\n",
       "      <th>3</th>\n",
       "      <td>Nice windscreen protects my MXL mic and preven...</td>\n",
       "      <td>14</td>\n",
       "    </tr>\n",
       "    <tr>\n",
       "      <th>4</th>\n",
       "      <td>This pop filter is great. It looks and perform...</td>\n",
       "      <td>10</td>\n",
       "    </tr>\n",
       "  </tbody>\n",
       "</table>\n",
       "</div>"
      ],
      "text/plain": [
       "                                          reviewText  stopwords\n",
       "0  Not much to write about here, but it does exac...         24\n",
       "1  The product does exactly as it should and is q...         47\n",
       "2  The primary job of this device is to block the...         29\n",
       "3  Nice windscreen protects my MXL mic and preven...         14\n",
       "4  This pop filter is great. It looks and perform...         10"
      ]
     },
     "execution_count": 4,
     "metadata": {},
     "output_type": "execute_result"
    }
   ],
   "source": [
    "# ========================== WSTĘPNA ANALIZA DANYCH ========================\n",
    "# Sprawdzenie liczby zbędnych słów w zdaniach\n",
    "nltk.download('stopwords')\n",
    "stop = stopwords.words('english')\n",
    "\n",
    "train['stopwords'] = train['reviewText'].apply(lambda x: len([x for x in str(x).split() if x in stop]))\n",
    "train[['reviewText','stopwords']].head()"
   ]
  },
  {
   "cell_type": "code",
   "execution_count": 5,
   "metadata": {},
   "outputs": [
    {
     "data": {
      "text/html": [
       "<div>\n",
       "<style scoped>\n",
       "    .dataframe tbody tr th:only-of-type {\n",
       "        vertical-align: middle;\n",
       "    }\n",
       "\n",
       "    .dataframe tbody tr th {\n",
       "        vertical-align: top;\n",
       "    }\n",
       "\n",
       "    .dataframe thead th {\n",
       "        text-align: right;\n",
       "    }\n",
       "</style>\n",
       "<table border=\"1\" class=\"dataframe\">\n",
       "  <thead>\n",
       "    <tr style=\"text-align: right;\">\n",
       "      <th></th>\n",
       "      <th>reviewText</th>\n",
       "      <th>commas</th>\n",
       "    </tr>\n",
       "  </thead>\n",
       "  <tbody>\n",
       "    <tr>\n",
       "      <th>0</th>\n",
       "      <td>Not much to write about here, but it does exac...</td>\n",
       "      <td>6</td>\n",
       "    </tr>\n",
       "    <tr>\n",
       "      <th>1</th>\n",
       "      <td>The product does exactly as it should and is q...</td>\n",
       "      <td>7</td>\n",
       "    </tr>\n",
       "    <tr>\n",
       "      <th>2</th>\n",
       "      <td>The primary job of this device is to block the...</td>\n",
       "      <td>5</td>\n",
       "    </tr>\n",
       "    <tr>\n",
       "      <th>3</th>\n",
       "      <td>Nice windscreen protects my MXL mic and preven...</td>\n",
       "      <td>2</td>\n",
       "    </tr>\n",
       "    <tr>\n",
       "      <th>4</th>\n",
       "      <td>This pop filter is great. It looks and perform...</td>\n",
       "      <td>3</td>\n",
       "    </tr>\n",
       "  </tbody>\n",
       "</table>\n",
       "</div>"
      ],
      "text/plain": [
       "                                          reviewText  commas\n",
       "0  Not much to write about here, but it does exac...       6\n",
       "1  The product does exactly as it should and is q...       7\n",
       "2  The primary job of this device is to block the...       5\n",
       "3  Nice windscreen protects my MXL mic and preven...       2\n",
       "4  This pop filter is great. It looks and perform...       3"
      ]
     },
     "execution_count": 5,
     "metadata": {},
     "output_type": "execute_result"
    }
   ],
   "source": [
    "#Liczba znaków interpunkcyjnych w recenzji\n",
    "train['commas'] = train['reviewText'].apply(lambda x: len([x for x in str(x).split() if x.endswith(',') or x.endswith('.')]))\n",
    "train[['reviewText','commas']].head()"
   ]
  },
  {
   "cell_type": "code",
   "execution_count": 6,
   "metadata": {},
   "outputs": [
    {
     "data": {
      "text/plain": [
       "commas    175\n",
       "dtype: int64"
      ]
     },
     "execution_count": 6,
     "metadata": {},
     "output_type": "execute_result"
    }
   ],
   "source": [
    "#Największa liczba znaków interpunkcyjnych\n",
    "train[['commas']].max()"
   ]
  },
  {
   "cell_type": "code",
   "execution_count": 7,
   "metadata": {},
   "outputs": [
    {
     "data": {
      "text/plain": [
       "commas    0\n",
       "dtype: int64"
      ]
     },
     "execution_count": 7,
     "metadata": {},
     "output_type": "execute_result"
    }
   ],
   "source": [
    "#Najmniejsz liczba znaków interpunkcyjnych\n",
    "train[['commas']].min()"
   ]
  },
  {
   "cell_type": "code",
   "execution_count": 8,
   "metadata": {},
   "outputs": [
    {
     "data": {
      "text/plain": [
       "commas    8.144333\n",
       "dtype: float64"
      ]
     },
     "execution_count": 8,
     "metadata": {},
     "output_type": "execute_result"
    }
   ],
   "source": [
    "#Średnia liczba znaków interpunkcyjnych\n",
    "train[['commas']].mean()"
   ]
  },
  {
   "cell_type": "code",
   "execution_count": 32,
   "metadata": {},
   "outputs": [
    {
     "data": {
      "text/html": [
       "<div>\n",
       "<style scoped>\n",
       "    .dataframe tbody tr th:only-of-type {\n",
       "        vertical-align: middle;\n",
       "    }\n",
       "\n",
       "    .dataframe tbody tr th {\n",
       "        vertical-align: top;\n",
       "    }\n",
       "\n",
       "    .dataframe thead th {\n",
       "        text-align: right;\n",
       "    }\n",
       "</style>\n",
       "<table border=\"1\" class=\"dataframe\">\n",
       "  <thead>\n",
       "    <tr style=\"text-align: right;\">\n",
       "      <th></th>\n",
       "      <th>reviewText</th>\n",
       "      <th>numerics</th>\n",
       "    </tr>\n",
       "  </thead>\n",
       "  <tbody>\n",
       "    <tr>\n",
       "      <th>0</th>\n",
       "      <td>much write exactly supposed filter pop sound r...</td>\n",
       "      <td>0</td>\n",
       "    </tr>\n",
       "    <tr>\n",
       "      <th>1</th>\n",
       "      <td>product exactly quite affordablei realized dou...</td>\n",
       "      <td>0</td>\n",
       "    </tr>\n",
       "    <tr>\n",
       "      <th>2</th>\n",
       "      <td>primary job device block breath would otherwis...</td>\n",
       "      <td>0</td>\n",
       "    </tr>\n",
       "    <tr>\n",
       "      <th>3</th>\n",
       "      <td>nice windscreen protects mxl mic prevents pop ...</td>\n",
       "      <td>0</td>\n",
       "    </tr>\n",
       "    <tr>\n",
       "      <th>4</th>\n",
       "      <td>pop filter great look performs like studio fil...</td>\n",
       "      <td>0</td>\n",
       "    </tr>\n",
       "  </tbody>\n",
       "</table>\n",
       "</div>"
      ],
      "text/plain": [
       "                                          reviewText  numerics\n",
       "0  much write exactly supposed filter pop sound r...         0\n",
       "1  product exactly quite affordablei realized dou...         0\n",
       "2  primary job device block breath would otherwis...         0\n",
       "3  nice windscreen protects mxl mic prevents pop ...         0\n",
       "4  pop filter great look performs like studio fil...         0"
      ]
     },
     "execution_count": 32,
     "metadata": {},
     "output_type": "execute_result"
    }
   ],
   "source": [
    "#Liczba znaków numerycznytch\n",
    "train['numerics'] = train['reviewText'].apply(lambda x: len([x for x in x.split() if x.isdigit()]))\n",
    "train[['reviewText','numerics']].head()"
   ]
  },
  {
   "cell_type": "code",
   "execution_count": 34,
   "metadata": {},
   "outputs": [
    {
     "data": {
      "text/plain": [
       "reviewText    zt lunchbox sort new technology allows loud go...\n",
       "numerics                                                     44\n",
       "dtype: object"
      ]
     },
     "execution_count": 34,
     "metadata": {},
     "output_type": "execute_result"
    }
   ],
   "source": [
    "#Największa liczba znaków numerycznytch w recenzji\n",
    "train[['numerics']].max()"
   ]
  },
  {
   "cell_type": "code",
   "execution_count": 35,
   "metadata": {},
   "outputs": [
    {
     "data": {
      "text/plain": [
       "numerics    0\n",
       "dtype: int64"
      ]
     },
     "execution_count": 35,
     "metadata": {},
     "output_type": "execute_result"
    }
   ],
   "source": [
    "#Najmniejsza liczba znaków numerycznytch w recenzji\n",
    "train[['numerics']].min()"
   ]
  },
  {
   "cell_type": "code",
   "execution_count": 36,
   "metadata": {},
   "outputs": [
    {
     "data": {
      "text/plain": [
       "numerics    0.753435\n",
       "dtype: float64"
      ]
     },
     "execution_count": 36,
     "metadata": {},
     "output_type": "execute_result"
    }
   ],
   "source": [
    "#Średnia liczb znaków numerycznytch w recenzji\n",
    "train[['numerics']].mean()"
   ]
  },
  {
   "cell_type": "code",
   "execution_count": 9,
   "metadata": {},
   "outputs": [
    {
     "name": "stderr",
     "output_type": "stream",
     "text": [
      "<ipython-input-9-482d4f196cad>:3: FutureWarning: The default value of regex will change from True to False in a future version.\n",
      "  train['reviewText'] = train['reviewText'].str.replace('[^\\w\\s]','')\n"
     ]
    },
    {
     "data": {
      "text/plain": [
       "0    Not much to write about here but it does exact...\n",
       "1    The product does exactly as it should and is q...\n",
       "2    The primary job of this device is to block the...\n",
       "3    Nice windscreen protects my MXL mic and preven...\n",
       "4    This pop filter is great It looks and performs...\n",
       "Name: reviewText, dtype: object"
      ]
     },
     "execution_count": 9,
     "metadata": {},
     "output_type": "execute_result"
    }
   ],
   "source": [
    "# ========================== WSTĘPNA NORMALIZACJA- ========================\n",
    "# Następnie pozbycie się znaków interpunkcyjnych\n",
    "train['reviewText'] = train['reviewText'].str.replace('[^\\w\\s]','')\n",
    "train['reviewText'].head()"
   ]
  },
  {
   "cell_type": "code",
   "execution_count": 10,
   "metadata": {},
   "outputs": [
    {
     "data": {
      "text/plain": [
       "0    not much to write about here but it does exact...\n",
       "1    the product does exactly as it should and is q...\n",
       "2    the primary job of this device is to block the...\n",
       "3    nice windscreen protects my mxl mic and preven...\n",
       "4    this pop filter is great it looks and performs...\n",
       "Name: reviewText, dtype: object"
      ]
     },
     "execution_count": 10,
     "metadata": {},
     "output_type": "execute_result"
    }
   ],
   "source": [
    "# Zamiana wielkości wszystkich liter na małe\n",
    "train['reviewText'] = train['reviewText'].apply(lambda x: \" \".join(x.lower() for x in str(x).split()))\n",
    "train['reviewText'].head()"
   ]
  },
  {
   "cell_type": "code",
   "execution_count": 11,
   "metadata": {},
   "outputs": [
    {
     "data": {
      "text/plain": [
       "0    much write exactly supposed filters pop sounds...\n",
       "1    product exactly quite affordablei realized dou...\n",
       "2    primary job device block breath would otherwis...\n",
       "3    nice windscreen protects mxl mic prevents pops...\n",
       "4    pop filter great looks performs like studio fi...\n",
       "Name: reviewText, dtype: object"
      ]
     },
     "execution_count": 11,
     "metadata": {},
     "output_type": "execute_result"
    }
   ],
   "source": [
    "#Pozbycie się słów z listy stop-words\n",
    "train['reviewText'] = train['reviewText'].apply(lambda x: \" \".join(x for x in x.split() if x not in stop))\n",
    "train['reviewText'].head()"
   ]
  },
  {
   "cell_type": "code",
   "execution_count": 12,
   "metadata": {},
   "outputs": [
    {
     "data": {
      "text/plain": [
       "guitar     5386\n",
       "one        4354\n",
       "great      3979\n",
       "like       3883\n",
       "use        3708\n",
       "good       3679\n",
       "sound      3487\n",
       "strings    3322\n",
       "well       3018\n",
       "get        2644\n",
       "pedal      2500\n",
       "would      2360\n",
       "really     2227\n",
       "price      2131\n",
       "dont       2062\n",
       "little     2048\n",
       "much       1965\n",
       "amp        1963\n",
       "works      1833\n",
       "ive        1828\n",
       "dtype: int64"
      ]
     },
     "execution_count": 12,
     "metadata": {},
     "output_type": "execute_result"
    }
   ],
   "source": [
    "# ========================== ANALIZA DANYCH ========================\n",
    "#Lista 20 najczęściej występujących słów\n",
    "freq = pd.Series(' '.join(train['reviewText']).split()).value_counts()[:20]\n",
    "freq"
   ]
  },
  {
   "cell_type": "code",
   "execution_count": 13,
   "metadata": {},
   "outputs": [
    {
     "data": {
      "text/plain": [
       "brightlylit            1\n",
       "balk                   1\n",
       "setfunctionpurposei    1\n",
       "ownedthe               1\n",
       "attain                 1\n",
       "quasi                  1\n",
       "0034                   1\n",
       "stocksive              1\n",
       "lineupno               1\n",
       "oilysticky             1\n",
       "testeri                1\n",
       "venueas                1\n",
       "automation             1\n",
       "readwhat               1\n",
       "bugerabehringer        1\n",
       "minutebut              1\n",
       "truebypassif           1\n",
       "topsome                1\n",
       "autoclose              1\n",
       "noteline               1\n",
       "dtype: int64"
      ]
     },
     "execution_count": 13,
     "metadata": {},
     "output_type": "execute_result"
    }
   ],
   "source": [
    "# Lista 20 najrzadziej występujących słów\n",
    "freq = pd.Series(' '.join(train['reviewText']).split()).value_counts()[-20:]\n",
    "freq"
   ]
  },
  {
   "cell_type": "code",
   "execution_count": 14,
   "metadata": {},
   "outputs": [
    {
     "data": {
      "text/plain": [
       "word_count    1113\n",
       "dtype: int64"
      ]
     },
     "execution_count": 14,
     "metadata": {},
     "output_type": "execute_result"
    }
   ],
   "source": [
    "#Najdłuższa recenzja\n",
    "train['word_count'] = train['reviewText'].apply(lambda x: len(str(x).split(\" \")))\n",
    "train[['word_count']].max()"
   ]
  },
  {
   "cell_type": "code",
   "execution_count": 15,
   "metadata": {},
   "outputs": [
    {
     "data": {
      "text/plain": [
       "word_count    1\n",
       "dtype: int64"
      ]
     },
     "execution_count": 15,
     "metadata": {},
     "output_type": "execute_result"
    }
   ],
   "source": [
    "#Najkrótsza recenzja\n",
    "train[['word_count']].min()"
   ]
  },
  {
   "cell_type": "code",
   "execution_count": 16,
   "metadata": {},
   "outputs": [
    {
     "data": {
      "text/plain": [
       "word_count    46.215281\n",
       "dtype: float64"
      ]
     },
     "execution_count": 16,
     "metadata": {},
     "output_type": "execute_result"
    }
   ],
   "source": [
    "#Średnia długość recenzji\n",
    "train[['word_count']].mean()"
   ]
  },
  {
   "cell_type": "code",
   "execution_count": 17,
   "metadata": {},
   "outputs": [
    {
     "data": {
      "text/plain": [
       "0    much write exactly supposed filters pop sounds...\n",
       "1    product exactly quite affordablei realized dou...\n",
       "2    primary job device block breath would otherwis...\n",
       "3    nice windscreen protects mal mid prevents pips...\n",
       "4    pop filter great looks perform like studio fil...\n",
       "Name: reviewText, dtype: object"
      ]
     },
     "execution_count": 17,
     "metadata": {},
     "output_type": "execute_result"
    }
   ],
   "source": [
    "# ========================== NORMALIZACJA- ========================\n",
    "#Poprawa pisowni przy użyciu TextBlob\n",
    "train['reviewText'][:5].apply(lambda x: str(TextBlob(x).correct()))"
   ]
  },
  {
   "cell_type": "code",
   "execution_count": 18,
   "metadata": {},
   "outputs": [
    {
     "name": "stderr",
     "output_type": "stream",
     "text": [
      "[nltk_data] Downloading package punkt to C:\\Users\\Mateusz\n",
      "[nltk_data]     Celka\\AppData\\Roaming\\nltk_data...\n",
      "[nltk_data]   Package punkt is already up-to-date!\n"
     ]
    },
    {
     "data": {
      "text/plain": [
       "WordList(['product', 'exactly', 'quite', 'affordablei', 'realized', 'double', 'screened', 'arrived', 'even', 'better', 'expectedas', 'added', 'bonus', 'one', 'screens', 'carries', 'small', 'hint', 'smell', 'old', 'grape', 'candy', 'used', 'buy', 'reminiscents', 'sake', 'can', 'not', 'stop', 'putting', 'pop', 'filter', 'next', 'nose', 'smelling', 'recording', 'dif', 'needed', 'pop', 'filter', 'work', 'well', 'expensive', 'ones', 'may', 'even', 'come', 'pleasing', 'aroma', 'like', 'mine', 'didbuy', 'product'])"
      ]
     },
     "execution_count": 18,
     "metadata": {},
     "output_type": "execute_result"
    }
   ],
   "source": [
    "# Tokenizacja\n",
    "nltk.download('punkt')\n",
    "TextBlob(train['reviewText'][1]).words"
   ]
  },
  {
   "cell_type": "code",
   "execution_count": 19,
   "metadata": {},
   "outputs": [
    {
     "name": "stderr",
     "output_type": "stream",
     "text": [
      "[nltk_data] Downloading package wordnet to C:\\Users\\Mateusz\n",
      "[nltk_data]     Celka\\AppData\\Roaming\\nltk_data...\n",
      "[nltk_data]   Package wordnet is already up-to-date!\n"
     ]
    },
    {
     "data": {
      "text/plain": [
       "0    much write exactly supposed filter pop sound r...\n",
       "1    product exactly quite affordablei realized dou...\n",
       "2    primary job device block breath would otherwis...\n",
       "3    nice windscreen protects mxl mic prevents pop ...\n",
       "4    pop filter great look performs like studio fil...\n",
       "Name: reviewText, dtype: object"
      ]
     },
     "execution_count": 19,
     "metadata": {},
     "output_type": "execute_result"
    }
   ],
   "source": [
    "#Lematyzacja\n",
    "nltk.download('wordnet')\n",
    "train['reviewText'] = train['reviewText'].apply(lambda x: \" \".join([Word(word).lemmatize() for word in x.split()]))\n",
    "train['reviewText'].head()"
   ]
  },
  {
   "cell_type": "code",
   "execution_count": 20,
   "metadata": {},
   "outputs": [
    {
     "data": {
      "text/plain": [
       "[WordList(['much', 'write']),\n",
       " WordList(['write', 'exactly']),\n",
       " WordList(['exactly', 'supposed']),\n",
       " WordList(['supposed', 'filter']),\n",
       " WordList(['filter', 'pop']),\n",
       " WordList(['pop', 'sound']),\n",
       " WordList(['sound', 'recording']),\n",
       " WordList(['recording', 'much']),\n",
       " WordList(['much', 'crisp']),\n",
       " WordList(['crisp', 'one']),\n",
       " WordList(['one', 'lowest']),\n",
       " WordList(['lowest', 'price']),\n",
       " WordList(['price', 'pop']),\n",
       " WordList(['pop', 'filter']),\n",
       " WordList(['filter', 'amazon']),\n",
       " WordList(['amazon', 'might']),\n",
       " WordList(['might', 'well']),\n",
       " WordList(['well', 'buy']),\n",
       " WordList(['buy', 'honestly']),\n",
       " WordList(['honestly', 'work']),\n",
       " WordList(['work', 'despite']),\n",
       " WordList(['despite', 'pricing'])]"
      ]
     },
     "execution_count": 20,
     "metadata": {},
     "output_type": "execute_result"
    }
   ],
   "source": [
    "# Bigram\n",
    "TextBlob(train['reviewText'][0]).ngrams(2)"
   ]
  },
  {
   "cell_type": "code",
   "execution_count": 21,
   "metadata": {},
   "outputs": [
    {
     "data": {
      "text/plain": [
       "[WordList(['much', 'write', 'exactly']),\n",
       " WordList(['write', 'exactly', 'supposed']),\n",
       " WordList(['exactly', 'supposed', 'filter']),\n",
       " WordList(['supposed', 'filter', 'pop']),\n",
       " WordList(['filter', 'pop', 'sound']),\n",
       " WordList(['pop', 'sound', 'recording']),\n",
       " WordList(['sound', 'recording', 'much']),\n",
       " WordList(['recording', 'much', 'crisp']),\n",
       " WordList(['much', 'crisp', 'one']),\n",
       " WordList(['crisp', 'one', 'lowest']),\n",
       " WordList(['one', 'lowest', 'price']),\n",
       " WordList(['lowest', 'price', 'pop']),\n",
       " WordList(['price', 'pop', 'filter']),\n",
       " WordList(['pop', 'filter', 'amazon']),\n",
       " WordList(['filter', 'amazon', 'might']),\n",
       " WordList(['amazon', 'might', 'well']),\n",
       " WordList(['might', 'well', 'buy']),\n",
       " WordList(['well', 'buy', 'honestly']),\n",
       " WordList(['buy', 'honestly', 'work']),\n",
       " WordList(['honestly', 'work', 'despite']),\n",
       " WordList(['work', 'despite', 'pricing'])]"
      ]
     },
     "execution_count": 21,
     "metadata": {},
     "output_type": "execute_result"
    }
   ],
   "source": [
    "# Trigram\n",
    "TextBlob(train['reviewText'][0]).ngrams(3)"
   ]
  },
  {
   "cell_type": "code",
   "execution_count": 22,
   "metadata": {},
   "outputs": [],
   "source": [
    "# Częstotliwość występowania fraz oraz odwrotna częstotliwość występowania fraz\n",
    "tf1 = (train['reviewText'][1:2]).apply(lambda x: pd.value_counts(x.split(\" \"))).sum(axis = 0).reset_index()\n",
    "tf1.columns = ['words','tf']"
   ]
  },
  {
   "cell_type": "code",
   "execution_count": 23,
   "metadata": {},
   "outputs": [
    {
     "data": {
      "text/html": [
       "<div>\n",
       "<style scoped>\n",
       "    .dataframe tbody tr th:only-of-type {\n",
       "        vertical-align: middle;\n",
       "    }\n",
       "\n",
       "    .dataframe tbody tr th {\n",
       "        vertical-align: top;\n",
       "    }\n",
       "\n",
       "    .dataframe thead th {\n",
       "        text-align: right;\n",
       "    }\n",
       "</style>\n",
       "<table border=\"1\" class=\"dataframe\">\n",
       "  <thead>\n",
       "    <tr style=\"text-align: right;\">\n",
       "      <th></th>\n",
       "      <th>words</th>\n",
       "      <th>tf</th>\n",
       "      <th>idf</th>\n",
       "    </tr>\n",
       "  </thead>\n",
       "  <tbody>\n",
       "    <tr>\n",
       "      <th>0</th>\n",
       "      <td>one</td>\n",
       "      <td>2</td>\n",
       "      <td>0.727953</td>\n",
       "    </tr>\n",
       "    <tr>\n",
       "      <th>1</th>\n",
       "      <td>pop</td>\n",
       "      <td>2</td>\n",
       "      <td>3.706676</td>\n",
       "    </tr>\n",
       "    <tr>\n",
       "      <th>2</th>\n",
       "      <td>even</td>\n",
       "      <td>2</td>\n",
       "      <td>2.126226</td>\n",
       "    </tr>\n",
       "    <tr>\n",
       "      <th>3</th>\n",
       "      <td>product</td>\n",
       "      <td>2</td>\n",
       "      <td>2.195569</td>\n",
       "    </tr>\n",
       "    <tr>\n",
       "      <th>4</th>\n",
       "      <td>filter</td>\n",
       "      <td>2</td>\n",
       "      <td>4.407792</td>\n",
       "    </tr>\n",
       "    <tr>\n",
       "      <th>5</th>\n",
       "      <td>putting</td>\n",
       "      <td>1</td>\n",
       "      <td>4.391918</td>\n",
       "    </tr>\n",
       "    <tr>\n",
       "      <th>6</th>\n",
       "      <td>didbuy</td>\n",
       "      <td>1</td>\n",
       "      <td>9.236106</td>\n",
       "    </tr>\n",
       "    <tr>\n",
       "      <th>7</th>\n",
       "      <td>carry</td>\n",
       "      <td>1</td>\n",
       "      <td>3.999664</td>\n",
       "    </tr>\n",
       "    <tr>\n",
       "      <th>8</th>\n",
       "      <td>candy</td>\n",
       "      <td>1</td>\n",
       "      <td>6.671156</td>\n",
       "    </tr>\n",
       "    <tr>\n",
       "      <th>9</th>\n",
       "      <td>used</td>\n",
       "      <td>1</td>\n",
       "      <td>1.922219</td>\n",
       "    </tr>\n",
       "    <tr>\n",
       "      <th>10</th>\n",
       "      <td>screened</td>\n",
       "      <td>1</td>\n",
       "      <td>8.137493</td>\n",
       "    </tr>\n",
       "    <tr>\n",
       "      <th>11</th>\n",
       "      <td>double</td>\n",
       "      <td>1</td>\n",
       "      <td>4.535625</td>\n",
       "    </tr>\n",
       "    <tr>\n",
       "      <th>12</th>\n",
       "      <td>nose</td>\n",
       "      <td>1</td>\n",
       "      <td>6.058052</td>\n",
       "    </tr>\n",
       "    <tr>\n",
       "      <th>13</th>\n",
       "      <td>screen</td>\n",
       "      <td>1</td>\n",
       "      <td>4.345756</td>\n",
       "    </tr>\n",
       "    <tr>\n",
       "      <th>14</th>\n",
       "      <td>old</td>\n",
       "      <td>1</td>\n",
       "      <td>1.750614</td>\n",
       "    </tr>\n",
       "    <tr>\n",
       "      <th>15</th>\n",
       "      <td>recording</td>\n",
       "      <td>1</td>\n",
       "      <td>3.172320</td>\n",
       "    </tr>\n",
       "    <tr>\n",
       "      <th>16</th>\n",
       "      <td>aroma</td>\n",
       "      <td>1</td>\n",
       "      <td>9.236106</td>\n",
       "    </tr>\n",
       "    <tr>\n",
       "      <th>17</th>\n",
       "      <td>reminiscents</td>\n",
       "      <td>1</td>\n",
       "      <td>9.236106</td>\n",
       "    </tr>\n",
       "    <tr>\n",
       "      <th>18</th>\n",
       "      <td>realized</td>\n",
       "      <td>1</td>\n",
       "      <td>5.498436</td>\n",
       "    </tr>\n",
       "    <tr>\n",
       "      <th>19</th>\n",
       "      <td>mine</td>\n",
       "      <td>1</td>\n",
       "      <td>3.275100</td>\n",
       "    </tr>\n",
       "    <tr>\n",
       "      <th>20</th>\n",
       "      <td>small</td>\n",
       "      <td>1</td>\n",
       "      <td>2.403074</td>\n",
       "    </tr>\n",
       "    <tr>\n",
       "      <th>21</th>\n",
       "      <td>smell</td>\n",
       "      <td>1</td>\n",
       "      <td>5.324083</td>\n",
       "    </tr>\n",
       "    <tr>\n",
       "      <th>22</th>\n",
       "      <td>come</td>\n",
       "      <td>1</td>\n",
       "      <td>2.303658</td>\n",
       "    </tr>\n",
       "    <tr>\n",
       "      <th>23</th>\n",
       "      <td>affordablei</td>\n",
       "      <td>1</td>\n",
       "      <td>8.137493</td>\n",
       "    </tr>\n",
       "    <tr>\n",
       "      <th>24</th>\n",
       "      <td>grape</td>\n",
       "      <td>1</td>\n",
       "      <td>8.137493</td>\n",
       "    </tr>\n",
       "    <tr>\n",
       "      <th>25</th>\n",
       "      <td>hint</td>\n",
       "      <td>1</td>\n",
       "      <td>5.770370</td>\n",
       "    </tr>\n",
       "    <tr>\n",
       "      <th>26</th>\n",
       "      <td>arrived</td>\n",
       "      <td>1</td>\n",
       "      <td>4.100307</td>\n",
       "    </tr>\n",
       "    <tr>\n",
       "      <th>27</th>\n",
       "      <td>added</td>\n",
       "      <td>1</td>\n",
       "      <td>3.913096</td>\n",
       "    </tr>\n",
       "    <tr>\n",
       "      <th>28</th>\n",
       "      <td>next</td>\n",
       "      <td>1</td>\n",
       "      <td>3.798026</td>\n",
       "    </tr>\n",
       "    <tr>\n",
       "      <th>29</th>\n",
       "      <td>expensive</td>\n",
       "      <td>1</td>\n",
       "      <td>2.739331</td>\n",
       "    </tr>\n",
       "    <tr>\n",
       "      <th>30</th>\n",
       "      <td>expectedas</td>\n",
       "      <td>1</td>\n",
       "      <td>9.236106</td>\n",
       "    </tr>\n",
       "    <tr>\n",
       "      <th>31</th>\n",
       "      <td>well</td>\n",
       "      <td>1</td>\n",
       "      <td>1.383278</td>\n",
       "    </tr>\n",
       "    <tr>\n",
       "      <th>32</th>\n",
       "      <td>buy</td>\n",
       "      <td>1</td>\n",
       "      <td>2.049205</td>\n",
       "    </tr>\n",
       "    <tr>\n",
       "      <th>33</th>\n",
       "      <td>pleasing</td>\n",
       "      <td>1</td>\n",
       "      <td>6.240373</td>\n",
       "    </tr>\n",
       "    <tr>\n",
       "      <th>34</th>\n",
       "      <td>dif</td>\n",
       "      <td>1</td>\n",
       "      <td>2.130319</td>\n",
       "    </tr>\n",
       "    <tr>\n",
       "      <th>35</th>\n",
       "      <td>may</td>\n",
       "      <td>1</td>\n",
       "      <td>2.570422</td>\n",
       "    </tr>\n",
       "    <tr>\n",
       "      <th>36</th>\n",
       "      <td>bonus</td>\n",
       "      <td>1</td>\n",
       "      <td>5.304280</td>\n",
       "    </tr>\n",
       "    <tr>\n",
       "      <th>37</th>\n",
       "      <td>cannot</td>\n",
       "      <td>1</td>\n",
       "      <td>4.294463</td>\n",
       "    </tr>\n",
       "    <tr>\n",
       "      <th>38</th>\n",
       "      <td>stop</td>\n",
       "      <td>1</td>\n",
       "      <td>4.218826</td>\n",
       "    </tr>\n",
       "    <tr>\n",
       "      <th>39</th>\n",
       "      <td>smelling</td>\n",
       "      <td>1</td>\n",
       "      <td>9.236106</td>\n",
       "    </tr>\n",
       "    <tr>\n",
       "      <th>40</th>\n",
       "      <td>needed</td>\n",
       "      <td>1</td>\n",
       "      <td>2.970804</td>\n",
       "    </tr>\n",
       "    <tr>\n",
       "      <th>41</th>\n",
       "      <td>sake</td>\n",
       "      <td>1</td>\n",
       "      <td>7.038881</td>\n",
       "    </tr>\n",
       "    <tr>\n",
       "      <th>42</th>\n",
       "      <td>work</td>\n",
       "      <td>1</td>\n",
       "      <td>1.290904</td>\n",
       "    </tr>\n",
       "    <tr>\n",
       "      <th>43</th>\n",
       "      <td>exactly</td>\n",
       "      <td>1</td>\n",
       "      <td>3.569679</td>\n",
       "    </tr>\n",
       "    <tr>\n",
       "      <th>44</th>\n",
       "      <td>quite</td>\n",
       "      <td>1</td>\n",
       "      <td>3.079127</td>\n",
       "    </tr>\n",
       "    <tr>\n",
       "      <th>45</th>\n",
       "      <td>like</td>\n",
       "      <td>1</td>\n",
       "      <td>1.229405</td>\n",
       "    </tr>\n",
       "    <tr>\n",
       "      <th>46</th>\n",
       "      <td>better</td>\n",
       "      <td>1</td>\n",
       "      <td>2.016464</td>\n",
       "    </tr>\n",
       "  </tbody>\n",
       "</table>\n",
       "</div>"
      ],
      "text/plain": [
       "           words  tf       idf\n",
       "0            one   2  0.727953\n",
       "1            pop   2  3.706676\n",
       "2           even   2  2.126226\n",
       "3        product   2  2.195569\n",
       "4         filter   2  4.407792\n",
       "5        putting   1  4.391918\n",
       "6         didbuy   1  9.236106\n",
       "7          carry   1  3.999664\n",
       "8          candy   1  6.671156\n",
       "9           used   1  1.922219\n",
       "10      screened   1  8.137493\n",
       "11        double   1  4.535625\n",
       "12          nose   1  6.058052\n",
       "13        screen   1  4.345756\n",
       "14           old   1  1.750614\n",
       "15     recording   1  3.172320\n",
       "16         aroma   1  9.236106\n",
       "17  reminiscents   1  9.236106\n",
       "18      realized   1  5.498436\n",
       "19          mine   1  3.275100\n",
       "20         small   1  2.403074\n",
       "21         smell   1  5.324083\n",
       "22          come   1  2.303658\n",
       "23   affordablei   1  8.137493\n",
       "24         grape   1  8.137493\n",
       "25          hint   1  5.770370\n",
       "26       arrived   1  4.100307\n",
       "27         added   1  3.913096\n",
       "28          next   1  3.798026\n",
       "29     expensive   1  2.739331\n",
       "30    expectedas   1  9.236106\n",
       "31          well   1  1.383278\n",
       "32           buy   1  2.049205\n",
       "33      pleasing   1  6.240373\n",
       "34           dif   1  2.130319\n",
       "35           may   1  2.570422\n",
       "36         bonus   1  5.304280\n",
       "37        cannot   1  4.294463\n",
       "38          stop   1  4.218826\n",
       "39      smelling   1  9.236106\n",
       "40        needed   1  2.970804\n",
       "41          sake   1  7.038881\n",
       "42          work   1  1.290904\n",
       "43       exactly   1  3.569679\n",
       "44         quite   1  3.079127\n",
       "45          like   1  1.229405\n",
       "46        better   1  2.016464"
      ]
     },
     "execution_count": 23,
     "metadata": {},
     "output_type": "execute_result"
    }
   ],
   "source": [
    "for i,word in enumerate(tf1['words']):\n",
    "  tf1.loc[i, 'idf'] = np.log(train.shape[0]/(len(train[train['reviewText'].str.contains(word)])))\n",
    "tf1"
   ]
  },
  {
   "cell_type": "code",
   "execution_count": 24,
   "metadata": {},
   "outputs": [
    {
     "name": "stderr",
     "output_type": "stream",
     "text": [
      "<ipython-input-24-670e8d7f89dc>:4: DeprecationWarning: Call to deprecated `glove2word2vec` (KeyedVectors.load_word2vec_format(.., binary=False, no_header=True) loads GLoVE text vectors.).\n",
      "  glove2word2vec(glove_input_file, word2vec_output_file)\n"
     ]
    },
    {
     "data": {
      "text/plain": [
       "(400000, 100)"
      ]
     },
     "execution_count": 24,
     "metadata": {},
     "output_type": "execute_result"
    }
   ],
   "source": [
    "#Wektoryzacja\n",
    "glove_input_file = 'glove.6B.100d.txt'\n",
    "word2vec_output_file = 'glove.6B.100d.txt.word2vec'\n",
    "glove2word2vec(glove_input_file, word2vec_output_file)"
   ]
  },
  {
   "cell_type": "code",
   "execution_count": 25,
   "metadata": {},
   "outputs": [],
   "source": [
    "filename = 'glove.6B.100d.txt.word2vec'\n",
    "model = KeyedVectors.load_word2vec_format(filename, binary=False)"
   ]
  },
  {
   "cell_type": "code",
   "execution_count": 26,
   "metadata": {},
   "outputs": [
    {
     "data": {
      "text/plain": [
       "array([-0.078894,  0.4616  ,  0.57779 , -0.71637 , -0.13121 ,  0.4186  ,\n",
       "       -0.29156 ,  0.52006 ,  0.089986, -0.35062 ,  0.51755 ,  0.51998 ,\n",
       "        0.15218 ,  0.41485 , -0.12377 , -0.37222 ,  0.0273  ,  0.75673 ,\n",
       "       -0.8739  ,  0.58935 ,  0.46662 ,  0.62918 ,  0.092603, -0.012868,\n",
       "       -0.015169,  0.25567 , -0.43025 , -0.77668 ,  0.71449 , -0.3834  ,\n",
       "       -0.69638 ,  0.23522 ,  0.11396 ,  0.02778 ,  0.071357,  0.87409 ,\n",
       "       -0.1281  ,  0.063576,  0.067867, -0.50181 , -0.28523 , -0.072536,\n",
       "       -0.50738 , -0.6914  , -0.53579 , -0.11361 , -0.38234 , -0.12414 ,\n",
       "        0.011214, -1.1622  ,  0.037057, -0.18495 ,  0.01416 ,  0.87193 ,\n",
       "       -0.097309, -2.3565  , -0.14554 ,  0.28275 ,  2.0053  ,  0.23439 ,\n",
       "       -0.38298 ,  0.69539 , -0.44916 , -0.094157,  0.90527 ,  0.65764 ,\n",
       "        0.27628 ,  0.30688 , -0.57781 , -0.22987 , -0.083043, -0.57236 ,\n",
       "       -0.299   , -0.81112 ,  0.039752, -0.05681 , -0.48879 , -0.18091 ,\n",
       "       -0.28152 , -0.20559 ,  0.4932  , -0.033999, -0.53139 , -0.28297 ,\n",
       "       -1.4475  , -0.18685 ,  0.091177,  0.11454 , -0.28168 , -0.33565 ,\n",
       "       -0.31663 , -0.1089  ,  0.10111 , -0.23737 , -0.64955 , -0.268   ,\n",
       "        0.35096 ,  0.26352 ,  0.59397 ,  0.26741 ], dtype=float32)"
      ]
     },
     "execution_count": 26,
     "metadata": {},
     "output_type": "execute_result"
    }
   ],
   "source": [
    "model['go']"
   ]
  },
  {
   "cell_type": "code",
   "execution_count": 27,
   "metadata": {},
   "outputs": [
    {
     "data": {
      "text/plain": [
       "array([-0.10379 , -0.014792,  0.59933 , -0.51316 , -0.036463,  0.6588  ,\n",
       "       -0.57906 ,  0.17819 ,  0.23663 , -0.21384 ,  0.55339 ,  0.53597 ,\n",
       "        0.041444,  0.16095 ,  0.017093, -0.37242 ,  0.017974,  0.39268 ,\n",
       "       -0.23265 ,  0.1818  ,  0.66405 ,  0.98163 ,  0.42339 ,  0.030581,\n",
       "        0.35015 ,  0.25519 , -0.71182 , -0.42184 ,  0.13068 , -0.47452 ,\n",
       "       -0.08175 ,  0.1574  , -0.13262 ,  0.22679 , -0.16885 , -0.11122 ,\n",
       "       -0.32272 , -0.020978, -0.43345 ,  0.172   , -0.67366 , -0.79052 ,\n",
       "        0.10556 , -0.4219  , -0.12385 , -0.063486, -0.17843 ,  0.56359 ,\n",
       "        0.16986 , -0.17804 ,  0.13956 , -0.20169 ,  0.078985,  1.4497  ,\n",
       "        0.23556 , -2.6014  , -0.5286  , -0.11636 ,  1.7184  ,  0.33254 ,\n",
       "        0.12136 ,  1.1602  , -0.2914  ,  0.47125 ,  0.41869 ,  0.35271 ,\n",
       "        0.47869 , -0.042281, -0.18294 ,  0.1796  , -0.24431 , -0.34042 ,\n",
       "        0.20337 , -0.93676 ,  0.013077,  0.080339, -0.36604 , -0.44005 ,\n",
       "       -0.35393 ,  0.15907 ,  0.55807 ,  0.1492  , -0.86433 ,  0.040305,\n",
       "       -1.0939  , -0.26386 , -0.29494 ,  0.25696 , -0.33718 , -0.086468,\n",
       "       -0.24246 , -0.21114 ,  0.099632,  0.12815 , -0.78714 , -0.51785 ,\n",
       "       -0.10944 ,  0.9763  ,  0.57032 ,  0.13581 ], dtype=float32)"
      ]
     },
     "execution_count": 27,
     "metadata": {},
     "output_type": "execute_result"
    }
   ],
   "source": [
    "model['away']"
   ]
  },
  {
   "cell_type": "code",
   "execution_count": 28,
   "metadata": {},
   "outputs": [
    {
     "data": {
      "text/plain": [
       "array([-0.091342  ,  0.223404  ,  0.58856   , -0.614765  , -0.0838365 ,\n",
       "        0.5387    , -0.43531   ,  0.349125  ,  0.163308  , -0.28223   ,\n",
       "        0.53547   ,  0.52797496,  0.096812  ,  0.2879    , -0.0533385 ,\n",
       "       -0.37232   ,  0.022637  ,  0.574705  , -0.553275  ,  0.385575  ,\n",
       "        0.565335  ,  0.805405  ,  0.2579965 ,  0.0088565 ,  0.1674905 ,\n",
       "        0.25543   , -0.571035  , -0.59926   ,  0.422585  , -0.42896   ,\n",
       "       -0.389065  ,  0.19631   , -0.00933   ,  0.127285  , -0.0487465 ,\n",
       "        0.381435  , -0.22540998,  0.021299  , -0.1827915 , -0.16490501,\n",
       "       -0.47944498, -0.431528  , -0.20091   , -0.55665   , -0.32982   ,\n",
       "       -0.088548  , -0.28038502,  0.219725  ,  0.090537  , -0.67012   ,\n",
       "        0.0883085 , -0.19332   ,  0.0465725 ,  1.160815  ,  0.0691255 ,\n",
       "       -2.47895   , -0.33707   ,  0.083195  ,  1.86185   ,  0.283465  ,\n",
       "       -0.13081   ,  0.927795  , -0.37028   ,  0.1885465 ,  0.66198   ,\n",
       "        0.505175  ,  0.37748498,  0.1322995 , -0.380375  , -0.025135  ,\n",
       "       -0.1636765 , -0.45639   , -0.047815  , -0.87394   ,  0.0264145 ,\n",
       "        0.0117645 , -0.427415  , -0.31048   , -0.317725  , -0.02326   ,\n",
       "        0.525635  ,  0.05760051, -0.69786   , -0.1213325 , -1.2707    ,\n",
       "       -0.225355  , -0.1018815 ,  0.18575001, -0.30943   , -0.211059  ,\n",
       "       -0.279545  , -0.16002001,  0.100371  , -0.05461   , -0.71834505,\n",
       "       -0.392925  ,  0.12075999,  0.61991   ,  0.582145  ,  0.20161   ],\n",
       "      dtype=float32)"
      ]
     },
     "execution_count": 28,
     "metadata": {},
     "output_type": "execute_result"
    }
   ],
   "source": [
    "(model['go'] + model['away'])/2"
   ]
  },
  {
   "cell_type": "code",
   "execution_count": 29,
   "metadata": {},
   "outputs": [
    {
     "data": {
      "text/html": [
       "<div>\n",
       "<style scoped>\n",
       "    .dataframe tbody tr th:only-of-type {\n",
       "        vertical-align: middle;\n",
       "    }\n",
       "\n",
       "    .dataframe tbody tr th {\n",
       "        vertical-align: top;\n",
       "    }\n",
       "\n",
       "    .dataframe thead th {\n",
       "        text-align: right;\n",
       "    }\n",
       "</style>\n",
       "<table border=\"1\" class=\"dataframe\">\n",
       "  <thead>\n",
       "    <tr style=\"text-align: right;\">\n",
       "      <th></th>\n",
       "      <th>reviewText</th>\n",
       "      <th>sentimet</th>\n",
       "      <th>overall</th>\n",
       "      <th>summary</th>\n",
       "    </tr>\n",
       "  </thead>\n",
       "  <tbody>\n",
       "    <tr>\n",
       "      <th>0</th>\n",
       "      <td>much write exactly supposed filter pop sound r...</td>\n",
       "      <td>0.340000</td>\n",
       "      <td>5.0</td>\n",
       "      <td>good</td>\n",
       "    </tr>\n",
       "    <tr>\n",
       "      <th>1</th>\n",
       "      <td>product exactly quite affordablei realized dou...</td>\n",
       "      <td>0.014286</td>\n",
       "      <td>5.0</td>\n",
       "      <td>Jake</td>\n",
       "    </tr>\n",
       "    <tr>\n",
       "      <th>2</th>\n",
       "      <td>primary job device block breath would otherwis...</td>\n",
       "      <td>0.167500</td>\n",
       "      <td>5.0</td>\n",
       "      <td>It Does The Job Well</td>\n",
       "    </tr>\n",
       "    <tr>\n",
       "      <th>3</th>\n",
       "      <td>nice windscreen protects mxl mic prevents pop ...</td>\n",
       "      <td>0.333333</td>\n",
       "      <td>5.0</td>\n",
       "      <td>GOOD WINDSCREEN FOR THE MONEY</td>\n",
       "    </tr>\n",
       "    <tr>\n",
       "      <th>4</th>\n",
       "      <td>pop filter great look performs like studio fil...</td>\n",
       "      <td>0.800000</td>\n",
       "      <td>5.0</td>\n",
       "      <td>No more pops when I record my vocals.</td>\n",
       "    </tr>\n",
       "    <tr>\n",
       "      <th>5</th>\n",
       "      <td>good bought another one love heavy cord gold c...</td>\n",
       "      <td>0.305556</td>\n",
       "      <td>5.0</td>\n",
       "      <td>The Best Cable</td>\n",
       "    </tr>\n",
       "    <tr>\n",
       "      <th>6</th>\n",
       "      <td>used monster cable year good reason lifetime w...</td>\n",
       "      <td>0.333333</td>\n",
       "      <td>5.0</td>\n",
       "      <td>Monster Standard 100 - 21' Instrument Cable</td>\n",
       "    </tr>\n",
       "    <tr>\n",
       "      <th>7</th>\n",
       "      <td>use cable run output pedal chain input fender ...</td>\n",
       "      <td>0.062096</td>\n",
       "      <td>3.0</td>\n",
       "      <td>Didn't fit my 1996 Fender Strat...</td>\n",
       "    </tr>\n",
       "    <tr>\n",
       "      <th>8</th>\n",
       "      <td>perfect epiphone sheraton ii monster cable wel...</td>\n",
       "      <td>0.500000</td>\n",
       "      <td>5.0</td>\n",
       "      <td>Great cable</td>\n",
       "    </tr>\n",
       "    <tr>\n",
       "      <th>9</th>\n",
       "      <td>monster make best cable lifetime warranty does...</td>\n",
       "      <td>0.330000</td>\n",
       "      <td>5.0</td>\n",
       "      <td>Best Instrument Cables On The Market</td>\n",
       "    </tr>\n",
       "    <tr>\n",
       "      <th>10</th>\n",
       "      <td>monster make wide array cable including high e...</td>\n",
       "      <td>0.055185</td>\n",
       "      <td>5.0</td>\n",
       "      <td>One of the best instrument cables within the b...</td>\n",
       "    </tr>\n",
       "    <tr>\n",
       "      <th>11</th>\n",
       "      <td>got needed found dont really need often rarely...</td>\n",
       "      <td>0.400000</td>\n",
       "      <td>4.0</td>\n",
       "      <td>It works great but I hardly use it.</td>\n",
       "    </tr>\n",
       "    <tr>\n",
       "      <th>12</th>\n",
       "      <td>use using large sustaining pedal playing piano...</td>\n",
       "      <td>-0.191071</td>\n",
       "      <td>3.0</td>\n",
       "      <td>HAS TO GET USE TO THE SIZE</td>\n",
       "    </tr>\n",
       "    <tr>\n",
       "      <th>13</th>\n",
       "      <td>love used yamaha ypt230 work great would recom...</td>\n",
       "      <td>0.650000</td>\n",
       "      <td>5.0</td>\n",
       "      <td>awesome</td>\n",
       "    </tr>\n",
       "    <tr>\n",
       "      <th>14</th>\n",
       "      <td>bought use home studio control midi keyboard w...</td>\n",
       "      <td>0.000000</td>\n",
       "      <td>5.0</td>\n",
       "      <td>It works!</td>\n",
       "    </tr>\n",
       "  </tbody>\n",
       "</table>\n",
       "</div>"
      ],
      "text/plain": [
       "                                           reviewText  sentimet  overall  \\\n",
       "0   much write exactly supposed filter pop sound r...  0.340000      5.0   \n",
       "1   product exactly quite affordablei realized dou...  0.014286      5.0   \n",
       "2   primary job device block breath would otherwis...  0.167500      5.0   \n",
       "3   nice windscreen protects mxl mic prevents pop ...  0.333333      5.0   \n",
       "4   pop filter great look performs like studio fil...  0.800000      5.0   \n",
       "5   good bought another one love heavy cord gold c...  0.305556      5.0   \n",
       "6   used monster cable year good reason lifetime w...  0.333333      5.0   \n",
       "7   use cable run output pedal chain input fender ...  0.062096      3.0   \n",
       "8   perfect epiphone sheraton ii monster cable wel...  0.500000      5.0   \n",
       "9   monster make best cable lifetime warranty does...  0.330000      5.0   \n",
       "10  monster make wide array cable including high e...  0.055185      5.0   \n",
       "11  got needed found dont really need often rarely...  0.400000      4.0   \n",
       "12  use using large sustaining pedal playing piano... -0.191071      3.0   \n",
       "13  love used yamaha ypt230 work great would recom...  0.650000      5.0   \n",
       "14  bought use home studio control midi keyboard w...  0.000000      5.0   \n",
       "\n",
       "                                              summary  \n",
       "0                                                good  \n",
       "1                                                Jake  \n",
       "2                                It Does The Job Well  \n",
       "3                       GOOD WINDSCREEN FOR THE MONEY  \n",
       "4               No more pops when I record my vocals.  \n",
       "5                                      The Best Cable  \n",
       "6         Monster Standard 100 - 21' Instrument Cable  \n",
       "7                  Didn't fit my 1996 Fender Strat...  \n",
       "8                                         Great cable  \n",
       "9                Best Instrument Cables On The Market  \n",
       "10  One of the best instrument cables within the b...  \n",
       "11                It works great but I hardly use it.  \n",
       "12                         HAS TO GET USE TO THE SIZE  \n",
       "13                                            awesome  \n",
       "14                                          It works!  "
      ]
     },
     "execution_count": 29,
     "metadata": {},
     "output_type": "execute_result"
    }
   ],
   "source": [
    "# Analiza tekstu\n",
    "train['sentimet'] = train['reviewText'].apply(lambda x: TextBlob(x).sentiment[0])\n",
    "train[['reviewText', 'sentimet', 'overall', 'summary']].head(15)"
   ]
  },
  {
   "cell_type": "code",
   "execution_count": 30,
   "metadata": {},
   "outputs": [
    {
     "data": {
      "text/html": [
       "<div>\n",
       "<style scoped>\n",
       "    .dataframe tbody tr th:only-of-type {\n",
       "        vertical-align: middle;\n",
       "    }\n",
       "\n",
       "    .dataframe tbody tr th {\n",
       "        vertical-align: top;\n",
       "    }\n",
       "\n",
       "    .dataframe thead th {\n",
       "        text-align: right;\n",
       "    }\n",
       "</style>\n",
       "<table border=\"1\" class=\"dataframe\">\n",
       "  <thead>\n",
       "    <tr style=\"text-align: right;\">\n",
       "      <th></th>\n",
       "      <th>reviewText</th>\n",
       "      <th>sentimet</th>\n",
       "      <th>overall</th>\n",
       "      <th>summary</th>\n",
       "    </tr>\n",
       "  </thead>\n",
       "  <tbody>\n",
       "    <tr>\n",
       "      <th>0</th>\n",
       "      <td>much write exactly supposed filter pop sound r...</td>\n",
       "      <td>0.433333</td>\n",
       "      <td>5.0</td>\n",
       "      <td>good</td>\n",
       "    </tr>\n",
       "    <tr>\n",
       "      <th>1</th>\n",
       "      <td>product exactly quite affordablei realized dou...</td>\n",
       "      <td>0.292857</td>\n",
       "      <td>5.0</td>\n",
       "      <td>Jake</td>\n",
       "    </tr>\n",
       "    <tr>\n",
       "      <th>2</th>\n",
       "      <td>primary job device block breath would otherwis...</td>\n",
       "      <td>0.434286</td>\n",
       "      <td>5.0</td>\n",
       "      <td>It Does The Job Well</td>\n",
       "    </tr>\n",
       "    <tr>\n",
       "      <th>3</th>\n",
       "      <td>nice windscreen protects mxl mic prevents pop ...</td>\n",
       "      <td>0.875000</td>\n",
       "      <td>5.0</td>\n",
       "      <td>GOOD WINDSCREEN FOR THE MONEY</td>\n",
       "    </tr>\n",
       "    <tr>\n",
       "      <th>4</th>\n",
       "      <td>pop filter great look performs like studio fil...</td>\n",
       "      <td>0.750000</td>\n",
       "      <td>5.0</td>\n",
       "      <td>No more pops when I record my vocals.</td>\n",
       "    </tr>\n",
       "    <tr>\n",
       "      <th>5</th>\n",
       "      <td>good bought another one love heavy cord gold c...</td>\n",
       "      <td>0.574074</td>\n",
       "      <td>5.0</td>\n",
       "      <td>The Best Cable</td>\n",
       "    </tr>\n",
       "    <tr>\n",
       "      <th>6</th>\n",
       "      <td>used monster cable year good reason lifetime w...</td>\n",
       "      <td>0.352381</td>\n",
       "      <td>5.0</td>\n",
       "      <td>Monster Standard 100 - 21' Instrument Cable</td>\n",
       "    </tr>\n",
       "    <tr>\n",
       "      <th>7</th>\n",
       "      <td>use cable run output pedal chain input fender ...</td>\n",
       "      <td>0.338283</td>\n",
       "      <td>3.0</td>\n",
       "      <td>Didn't fit my 1996 Fender Strat...</td>\n",
       "    </tr>\n",
       "    <tr>\n",
       "      <th>8</th>\n",
       "      <td>perfect epiphone sheraton ii monster cable wel...</td>\n",
       "      <td>0.500000</td>\n",
       "      <td>5.0</td>\n",
       "      <td>Great cable</td>\n",
       "    </tr>\n",
       "    <tr>\n",
       "      <th>9</th>\n",
       "      <td>monster make best cable lifetime warranty does...</td>\n",
       "      <td>0.590000</td>\n",
       "      <td>5.0</td>\n",
       "      <td>Best Instrument Cables On The Market</td>\n",
       "    </tr>\n",
       "    <tr>\n",
       "      <th>10</th>\n",
       "      <td>monster make wide array cable including high e...</td>\n",
       "      <td>0.524753</td>\n",
       "      <td>5.0</td>\n",
       "      <td>One of the best instrument cables within the b...</td>\n",
       "    </tr>\n",
       "    <tr>\n",
       "      <th>11</th>\n",
       "      <td>got needed found dont really need often rarely...</td>\n",
       "      <td>0.566667</td>\n",
       "      <td>4.0</td>\n",
       "      <td>It works great but I hardly use it.</td>\n",
       "    </tr>\n",
       "    <tr>\n",
       "      <th>12</th>\n",
       "      <td>use using large sustaining pedal playing piano...</td>\n",
       "      <td>0.642857</td>\n",
       "      <td>3.0</td>\n",
       "      <td>HAS TO GET USE TO THE SIZE</td>\n",
       "    </tr>\n",
       "    <tr>\n",
       "      <th>13</th>\n",
       "      <td>love used yamaha ypt230 work great would recom...</td>\n",
       "      <td>0.675000</td>\n",
       "      <td>5.0</td>\n",
       "      <td>awesome</td>\n",
       "    </tr>\n",
       "    <tr>\n",
       "      <th>14</th>\n",
       "      <td>bought use home studio control midi keyboard w...</td>\n",
       "      <td>0.000000</td>\n",
       "      <td>5.0</td>\n",
       "      <td>It works!</td>\n",
       "    </tr>\n",
       "  </tbody>\n",
       "</table>\n",
       "</div>"
      ],
      "text/plain": [
       "                                           reviewText  sentimet  overall  \\\n",
       "0   much write exactly supposed filter pop sound r...  0.433333      5.0   \n",
       "1   product exactly quite affordablei realized dou...  0.292857      5.0   \n",
       "2   primary job device block breath would otherwis...  0.434286      5.0   \n",
       "3   nice windscreen protects mxl mic prevents pop ...  0.875000      5.0   \n",
       "4   pop filter great look performs like studio fil...  0.750000      5.0   \n",
       "5   good bought another one love heavy cord gold c...  0.574074      5.0   \n",
       "6   used monster cable year good reason lifetime w...  0.352381      5.0   \n",
       "7   use cable run output pedal chain input fender ...  0.338283      3.0   \n",
       "8   perfect epiphone sheraton ii monster cable wel...  0.500000      5.0   \n",
       "9   monster make best cable lifetime warranty does...  0.590000      5.0   \n",
       "10  monster make wide array cable including high e...  0.524753      5.0   \n",
       "11  got needed found dont really need often rarely...  0.566667      4.0   \n",
       "12  use using large sustaining pedal playing piano...  0.642857      3.0   \n",
       "13  love used yamaha ypt230 work great would recom...  0.675000      5.0   \n",
       "14  bought use home studio control midi keyboard w...  0.000000      5.0   \n",
       "\n",
       "                                              summary  \n",
       "0                                                good  \n",
       "1                                                Jake  \n",
       "2                                It Does The Job Well  \n",
       "3                       GOOD WINDSCREEN FOR THE MONEY  \n",
       "4               No more pops when I record my vocals.  \n",
       "5                                      The Best Cable  \n",
       "6         Monster Standard 100 - 21' Instrument Cable  \n",
       "7                  Didn't fit my 1996 Fender Strat...  \n",
       "8                                         Great cable  \n",
       "9                Best Instrument Cables On The Market  \n",
       "10  One of the best instrument cables within the b...  \n",
       "11                It works great but I hardly use it.  \n",
       "12                         HAS TO GET USE TO THE SIZE  \n",
       "13                                            awesome  \n",
       "14                                          It works!  "
      ]
     },
     "execution_count": 30,
     "metadata": {},
     "output_type": "execute_result"
    }
   ],
   "source": [
    "train['sentimet'] = train['reviewText'].apply(lambda x: TextBlob(x).sentiment[1])\n",
    "train[['reviewText', 'sentimet', 'overall', 'summary']].head(15)"
   ]
  },
  {
   "cell_type": "code",
   "execution_count": null,
   "metadata": {},
   "outputs": [],
   "source": []
  }
 ],
 "metadata": {
  "kernelspec": {
   "display_name": "Python 3",
   "language": "python",
   "name": "python3"
  },
  "language_info": {
   "codemirror_mode": {
    "name": "ipython",
    "version": 3
   },
   "file_extension": ".py",
   "mimetype": "text/x-python",
   "name": "python",
   "nbconvert_exporter": "python",
   "pygments_lexer": "ipython3",
   "version": "3.8.10"
  }
 },
 "nbformat": 4,
 "nbformat_minor": 4
}
